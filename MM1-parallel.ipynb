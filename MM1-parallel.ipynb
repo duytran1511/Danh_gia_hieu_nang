{
 "cells": [
  {
   "cell_type": "markdown",
   "metadata": {
    "id": "sidl8rN-gpnX"
   },
   "source": [
    "**Installation of SimPy\"\"\n",
    "If not available**"
   ]
  },
  {
   "cell_type": "code",
   "execution_count": 1,
   "metadata": {
    "colab": {
     "base_uri": "https://localhost:8080/",
     "height": 105
    },
    "id": "pKwPk03SfmJK",
    "outputId": "36ba5ba1-32bd-4328-851b-86bad702a048"
   },
   "outputs": [
    {
     "name": "stdout",
     "output_type": "stream",
     "text": [
      "Requirement already satisfied: simpy in c:\\apps\\python\\lib\\site-packages (4.0.1)\n"
     ]
    },
    {
     "name": "stderr",
     "output_type": "stream",
     "text": [
      "\n",
      "[notice] A new release of pip available: 22.3 -> 22.3.1\n",
      "[notice] To update, run: python.exe -m pip install --upgrade pip\n"
     ]
    },
    {
     "name": "stdout",
     "output_type": "stream",
     "text": [
      "Requirement already satisfied: numpy in c:\\apps\\python\\lib\\site-packages (1.23.5)\n"
     ]
    },
    {
     "name": "stderr",
     "output_type": "stream",
     "text": [
      "\n",
      "[notice] A new release of pip available: 22.3 -> 22.3.1\n",
      "[notice] To update, run: python.exe -m pip install --upgrade pip\n"
     ]
    },
    {
     "name": "stdout",
     "output_type": "stream",
     "text": [
      "Requirement already satisfied: matplotlib in c:\\apps\\python\\lib\\site-packages (3.6.2)\n",
      "Requirement already satisfied: contourpy>=1.0.1 in c:\\apps\\python\\lib\\site-packages (from matplotlib) (1.0.6)\n",
      "Requirement already satisfied: cycler>=0.10 in c:\\apps\\python\\lib\\site-packages (from matplotlib) (0.11.0)\n",
      "Requirement already satisfied: fonttools>=4.22.0 in c:\\apps\\python\\lib\\site-packages (from matplotlib) (4.38.0)\n",
      "Requirement already satisfied: kiwisolver>=1.0.1 in c:\\apps\\python\\lib\\site-packages (from matplotlib) (1.4.4)\n",
      "Requirement already satisfied: numpy>=1.19 in c:\\apps\\python\\lib\\site-packages (from matplotlib) (1.23.5)\n",
      "Requirement already satisfied: packaging>=20.0 in c:\\users\\admin\\appdata\\roaming\\python\\python311\\site-packages (from matplotlib) (21.3)\n",
      "Requirement already satisfied: pillow>=6.2.0 in c:\\apps\\python\\lib\\site-packages (from matplotlib) (9.3.0)\n",
      "Requirement already satisfied: pyparsing>=2.2.1 in c:\\users\\admin\\appdata\\roaming\\python\\python311\\site-packages (from matplotlib) (3.0.9)\n",
      "Requirement already satisfied: python-dateutil>=2.7 in c:\\users\\admin\\appdata\\roaming\\python\\python311\\site-packages (from matplotlib) (2.8.2)\n",
      "Requirement already satisfied: six>=1.5 in c:\\users\\admin\\appdata\\roaming\\python\\python311\\site-packages (from python-dateutil>=2.7->matplotlib) (1.16.0)\n"
     ]
    },
    {
     "name": "stderr",
     "output_type": "stream",
     "text": [
      "\n",
      "[notice] A new release of pip available: 22.3 -> 22.3.1\n",
      "[notice] To update, run: python.exe -m pip install --upgrade pip\n"
     ]
    }
   ],
   "source": [
    "# Window\n",
    "!python -m pip install simpy\n",
    "!python -m pip install numpy\n",
    "!python -m pip install matplotlib"
   ]
  },
  {
   "cell_type": "markdown",
   "metadata": {
    "id": "sK1Rcq_Nn7JU"
   },
   "source": [
    "**Import of required modules**"
   ]
  },
  {
   "cell_type": "code",
   "execution_count": 2,
   "metadata": {
    "id": "ZOd3WZaxoF6X"
   },
   "outputs": [],
   "source": [
    "import simpy\n",
    "import numpy as np\n",
    "import numpy.random as random"
   ]
  },
  {
   "cell_type": "markdown",
   "metadata": {
    "id": "RYQoyxyanvOF"
   },
   "source": [
    "**Parameters settings**"
   ]
  },
  {
   "cell_type": "code",
   "execution_count": 3,
   "metadata": {
    "id": "asVZg4Rhnszz"
   },
   "outputs": [],
   "source": [
    "MAXSIMTIME              = 100000\n",
    "VERBOSE                 = False\n",
    "LAMBDA                  = 3.8\n",
    "MU                      = 8.0\n",
    "POPULATION              = 50000000\n",
    "SERVICE_DISCIPLINE      = 'FIFO'\n",
    "LOGGED                  = True\n",
    "PLOTTED                 = True"
   ]
  },
  {
   "cell_type": "markdown",
   "metadata": {
    "id": "7DTHSA8KoOee"
   },
   "source": [
    "**Discrete-Event Simulation model**\n"
   ]
  },
  {
   "cell_type": "markdown",
   "metadata": {
    "id": "febxQ9ZloffF"
   },
   "source": [
    "**The definition of a job**.\n",
    "\n",
    "The properties of a job are\n",
    "\n",
    "\n",
    "1. job execution time\n",
    "2. job arrival time"
   ]
  },
  {
   "cell_type": "markdown",
   "metadata": {},
   "source": []
  },
  {
   "cell_type": "code",
   "execution_count": 4,
   "metadata": {
    "id": "TEvUrP_ToXfJ"
   },
   "outputs": [],
   "source": [
    "class Job:\n",
    "    def __init__(self, name, arrtime, duration):\n",
    "        self.name = name\n",
    "        self.arrtime = arrtime\n",
    "        self.duration = duration\n",
    "\n",
    "    def __str__(self):\n",
    "        return '%s at %d, length %d' %(self.name, self.arrtime, self.duration)"
   ]
  },
  {
   "cell_type": "markdown",
   "metadata": {
    "id": "kY81H1JZot8D"
   },
   "source": [
    "**Disciplines**\n",
    "Different queue disciplines can be defined here.\n",
    "\n",
    "\n",
    "1.   Shortest Job First (SJF)\n",
    "2.   List item\n",
    "\n"
   ]
  },
  {
   "cell_type": "code",
   "execution_count": 5,
   "metadata": {
    "id": "48b26HGLo-u-"
   },
   "outputs": [],
   "source": [
    "def SJF( job ):\n",
    "    return job.duration"
   ]
  },
  {
   "cell_type": "markdown",
   "metadata": {
    "id": "8xrYAaF1pNQw"
   },
   "source": [
    "**The definition of server**\n",
    "\n",
    " There are 3 arguments needed for a server:\n",
    " 1. env: SimPy environment\n",
    " 2. queue discipline: \n",
    "   - FIFO: First In First Out\n",
    "   - SJF : Shortest Job  "
   ]
  },
  {
   "cell_type": "code",
   "execution_count": 6,
   "metadata": {
    "id": "-6HYojvLpyZY"
   },
   "outputs": [],
   "source": [
    "class Server:\n",
    "    def __init__(self, env, strat = 'FIFO', name = 1):\n",
    "        self.name = name\n",
    "        \n",
    "        self.env = env\n",
    "        self.strat = strat\n",
    "        self.Jobs = list(())\n",
    "              \n",
    "        self.serversleeping = None\n",
    "        \n",
    "        ''' statistics '''\n",
    "        self.waitingTime = 0\n",
    "        self.serviceTime = 0\n",
    "        self.responseTime = 0\n",
    "        self.idleTime = 0\n",
    "        self.jobsDone = 0\n",
    "\n",
    "        ''' register a new server process '''\n",
    "        env.process( self.serve() )\n",
    "\n",
    "    def nJobs(self):\n",
    "        return len(self.Jobs)\n",
    "\n",
    "    def serve(self):\n",
    "        while True:\n",
    "            # do nothing, just change server to idle\n",
    "            # and then yield a wait event which takes infinite time\n",
    "            if len( self.Jobs ) == 0 :\n",
    "                self.serversleeping = self.env.process( self.waiting( self.env ))\n",
    "                t1 = self.env.now\n",
    "                yield self.serversleeping\n",
    "                # accumulate the server idle time\n",
    "                self.idleTime += self.env.now - t1\n",
    "            else:\n",
    "                # get the first job to be served\n",
    "                if self.strat == 'SJF':\n",
    "                    self.Jobs.sort( key = SJF )\n",
    "                    j = self.Jobs.pop( 0 )\n",
    "                else: # FIFO by default\n",
    "                    j = self.Jobs.pop( 0 )\n",
    "\n",
    "                if LOGGED:\n",
    "                    if self.name == 1:\n",
    "                        qlog1.write( '%.4f\\t%d\\t%d\\n' \n",
    "                            % (self.env.now, 1 if len(self.Jobs)>0 else 0, len(self.Jobs)) )\n",
    "                    else:\n",
    "                        qlog2.write( '%.4f\\t%d\\t%d\\n' \n",
    "                            % (self.env.now, 1 if len(self.Jobs)>0 else 0, len(self.Jobs)) )\n",
    "\n",
    "                ''' sum up the waiting time'''\n",
    "                self.waitingTime += self.env.now - j.arrtime\n",
    "                ''' sum up the service time'''\n",
    "                self.serviceTime += j.duration\n",
    "                ''' sum up the response time'''\n",
    "                self.responseTime += (self.env.now - j.arrtime) + j.duration\n",
    "\n",
    "                ''' yield an event for the job finish'''\n",
    "                yield self.env.timeout( j.duration )\n",
    "\n",
    "                ''' sum up the jobs done '''\n",
    "                self.jobsDone += 1\n",
    "\n",
    "    def waiting(self, env):\n",
    "        try:\n",
    "            if VERBOSE:\n",
    "                print( 'Server', self.name, 'is idle at %.2f' % self.env.now )\n",
    "            yield self.env.timeout( MAXSIMTIME )\n",
    "        except simpy.Interrupt as i:\n",
    "            if VERBOSE:\n",
    "                print('Server', self.name ,'waken up and works at %.2f' % self.env.now )"
   ]
  },
  {
   "cell_type": "markdown",
   "metadata": {
    "id": "O-nvQ8o_qHfn"
   },
   "source": [
    "**The arrival process**\n",
    "\n",
    "The arrival process is exponentially distributed which is parameterized by\n",
    "1. number of servers\n",
    "2. maximum number of population\n",
    "3. arrival rate $\\lambda$\n",
    "4. service rate $\\mu$\n",
    "*Note that, the implementation of the arrival process embeds both arrival and service distributions.*"
   ]
  },
  {
   "cell_type": "code",
   "execution_count": 7,
   "metadata": {
    "id": "R7nU8BkzqKr5"
   },
   "outputs": [],
   "source": [
    "class JobGenerator:\n",
    "    def __init__(self, env, server1, server2, nrjobs = 10000000, lam = 5, mu = 8):\n",
    "        self.server1 = server1\n",
    "        self.server2 = server2\n",
    "\n",
    "        self.nrjobs = nrjobs\n",
    "        self.interarrivaltime = 1/lam;\n",
    "        self.servicetime = 1/mu;\n",
    "        env.process( self.generatejobs(env) )\n",
    "        \n",
    "    def generatejobs(self, env):\n",
    "        i = 1\n",
    "        while True:\n",
    "            # yield an event for new job arrival\n",
    "            job_interarrival = random.exponential( self.interarrivaltime )\n",
    "            yield env.timeout( job_interarrival )\n",
    "\n",
    "            # generate service time and add job to the list\n",
    "            job_duration = random.exponential( self.servicetime )\n",
    "\n",
    "            # choose server randomly 50%\n",
    "            server = 1\n",
    "            temp = random.random()\n",
    "\n",
    "            if temp < 0.5:\n",
    "                server = 1\n",
    "            else:\n",
    "                server = 2\n",
    "\n",
    "            if server == 1:\n",
    "                self.server1.Jobs.append( Job('Job %s' %i, env.now, job_duration) )\n",
    "            else:\n",
    "                self.server2.Jobs.append( Job('Job %s' %i, env.now, job_duration) )\n",
    "\n",
    "            if VERBOSE:\n",
    "                print( 'job %d: t = %.2f, l = %.2f, dt = %.2f' \n",
    "                    %( i, env.now, job_duration, job_interarrival ) )\n",
    "\n",
    "            i += 1\n",
    "\n",
    "            if server == 1:\n",
    "                ''' if server is idle, wake it up'''\n",
    "                if not self.server1.serversleeping.triggered:\n",
    "                    self.server1.serversleeping.interrupt( 'Wake up server 1, please.' )\n",
    "            else:\n",
    "                ''' if server is idle, wake it up'''\n",
    "                if not self.server2.serversleeping.triggered:\n",
    "                    self.server2.serversleeping.interrupt( 'Wake up server 2, please.' )"
   ]
  },
  {
   "cell_type": "markdown",
   "metadata": {
    "id": "NxbCXAF1rMZ4"
   },
   "source": [
    "**Open the log file**\n",
    "\n",
    "If requested."
   ]
  },
  {
   "cell_type": "code",
   "execution_count": 8,
   "metadata": {
    "id": "aSjPUvGfrSJc"
   },
   "outputs": [],
   "source": [
    "if LOGGED:\n",
    "    qlog1 = open( 'mm1-l%d-m%d1.csv' % (LAMBDA,MU), 'w' )\n",
    "    qlog1.write( '0\\t0\\t0\\n' )\n",
    "    qlog2 = open( 'mm1-l%d-m%d2.csv' % (LAMBDA,MU), 'w' )\n",
    "    qlog2.write( '0\\t0\\t0\\n' )"
   ]
  },
  {
   "cell_type": "markdown",
   "metadata": {
    "id": "k8WFQcQtrWws"
   },
   "source": [
    "**Start SimPy environment**"
   ]
  },
  {
   "cell_type": "code",
   "execution_count": 9,
   "metadata": {
    "id": "BO60ZKxjracy"
   },
   "outputs": [],
   "source": [
    "env = simpy.Environment()\n",
    "\n",
    "MyServer1 = Server( env, SERVICE_DISCIPLINE, 1 )\n",
    "MyServer2 = Server( env, SERVICE_DISCIPLINE, 2 )\n",
    "\n",
    "MyJobGenerator = JobGenerator( env, MyServer1, MyServer2, POPULATION, LAMBDA, MU )"
   ]
  },
  {
   "cell_type": "markdown",
   "metadata": {
    "id": "SlH3zUajre1W"
   },
   "source": [
    "**Run the simulation** "
   ]
  },
  {
   "cell_type": "code",
   "execution_count": 10,
   "metadata": {
    "id": "ZEBVpZLLriBS"
   },
   "outputs": [],
   "source": [
    "env.run( until = MAXSIMTIME )"
   ]
  },
  {
   "cell_type": "markdown",
   "metadata": {
    "id": "0Vl6BUoxrqBm"
   },
   "source": [
    "**Close the log file**"
   ]
  },
  {
   "cell_type": "code",
   "execution_count": 11,
   "metadata": {
    "id": "Y9FtIQ8lrt-7"
   },
   "outputs": [],
   "source": [
    "if LOGGED:\n",
    "    qlog1.close()\n",
    "    qlog2.close()"
   ]
  },
  {
   "cell_type": "markdown",
   "metadata": {
    "id": "6FhfyIj4rxFs"
   },
   "source": [
    "**Print some statistics**"
   ]
  },
  {
   "cell_type": "code",
   "execution_count": 12,
   "metadata": {
    "colab": {
     "base_uri": "https://localhost:8080/",
     "height": 68
    },
    "id": "Dn4otA3srzw8",
    "outputId": "d7b30780-c809-49fd-90d2-4d387b4c8bca"
   },
   "outputs": [
    {
     "name": "stdout",
     "output_type": "stream",
     "text": [
      "Arrivals 1               : 189882\n",
      "Arrivals 2               : 189976\n",
      "\n",
      "Idle time 1              : 76231\n",
      "Idle time 2              : 76299\n",
      "\n",
      "Waiting time 1           : 7583\n",
      "Waiting time 2           : 7284\n",
      "\n",
      "Job done 1               : 189882\n",
      "Job done 2               : 189976\n",
      "\n",
      "Utilization\n",
      "U (1)                    : 0.24/0.24\n",
      "U (2)                    : 0.24/0.24\n",
      "\n",
      "Mean waiting time\n",
      "E[w] (1)                 : 0.04/0.02\n",
      "E[w] (2)                 : 0.04/0.02\n",
      "\n",
      "Mean service time\n",
      "E[s] (1)                 : 0.13/0.12\n",
      "E[s] (2)                 : 0.12/0.12\n",
      "\n",
      "Mean response time\n",
      "E[r] (1)                 : 0.17/0.14\n",
      "E[r] (2)                 : 0.16/0.14\n",
      "\n",
      "Mean number of jobs\n",
      "E[n] (1)                 : 0.31/0.31\n",
      "E[n] (2)                 : 0.31/0.31\n"
     ]
    }
   ],
   "source": [
    "# theory variables\n",
    "RHO = LAMBDA/MU\n",
    "RHO_1 = (LAMBDA / 2) / MU\n",
    "RHO_2 = (LAMBDA / 2) / MU\n",
    "\n",
    "UTILIZATION_1 = RHO_1\n",
    "UTILIZATION_2 = RHO_2\n",
    "\n",
    "MEAN_WAITING_TIME_1 = RHO_1**2/((1-RHO_1)*LAMBDA)\n",
    "MEAN_WAITING_TIME_2 = RHO_2**2/((1-RHO_2)*LAMBDA)\n",
    "\n",
    "MEAN_SERVICE_TIME_1 = 1 / MU\n",
    "MEAN_SERVICE_TIME_2 = 1 / MU\n",
    "\n",
    "MEAN_RESPONSE_TIME_1 = RHO_1**2/((1-RHO_1)*LAMBDA) + 1/MU\n",
    "MEAN_RESPONSE_TIME_2 = RHO_2**2/((1-RHO_2)*LAMBDA) + 1/MU\n",
    "\n",
    "MEAN_NUMBER_JOB_1 = RHO_1 / (1 - RHO_1)\n",
    "MEAN_NUMBER_JOB_2 = RHO_2 / (1 - RHO_2)\n",
    "\n",
    "print('Arrivals 1               : %d' % (MyServer1.jobsDone) )\n",
    "print('Arrivals 2               : %d\\n' % (MyServer2.jobsDone) )\n",
    "\n",
    "\n",
    "print('Idle time 1              : %d' % (MyServer1.idleTime))\n",
    "print('Idle time 2              : %d\\n' % (MyServer2.idleTime))\n",
    "\n",
    "\n",
    "print('Waiting time 1           : %d' % (MyServer1.waitingTime))\n",
    "print('Waiting time 2           : %d\\n' % (MyServer2.waitingTime))\n",
    "\n",
    "\n",
    "print('Job done 1               : %d' % (MyServer1.jobsDone))\n",
    "print('Job done 2               : %d\\n' % (MyServer2.jobsDone))\n",
    "\n",
    "# U\n",
    "U1 = (1.0-MyServer1.idleTime/MAXSIMTIME)\n",
    "U2 = (1.0-MyServer2.idleTime/MAXSIMTIME)\n",
    "print('Utilization')\n",
    "print('U (1)                    : %.2f/%.2f' \n",
    "    % (U1, UTILIZATION_1) )\n",
    "print('U (2)                    : %.2f/%.2f\\n' \n",
    "    % (U2, UTILIZATION_2) )\n",
    "    \n",
    "# E[w]\n",
    "E_W_1 = (MyServer1.waitingTime/MyServer1.jobsDone)\n",
    "E_W_2 = (MyServer2.waitingTime/MyServer2.jobsDone)\n",
    "print('Mean waiting time')\n",
    "print('E[w] (1)                 : %.2f/%.2f' \n",
    "    %  (E_W_1, MEAN_WAITING_TIME_1) )\n",
    "print('E[w] (2)                 : %.2f/%.2f\\n' \n",
    "    %  (E_W_2, MEAN_WAITING_TIME_2) )\n",
    "\n",
    "# E[s]\n",
    "E_S_1 = (MyServer1.serviceTime/MyServer1.jobsDone)\n",
    "E_S_2 = (MyServer2.serviceTime/MyServer2.jobsDone)\n",
    "print('Mean service time')\n",
    "print('E[s] (1)                 : %.2f/%.2f' \n",
    "    %  (E_S_1, MEAN_SERVICE_TIME_1) )\n",
    "print('E[s] (2)                 : %.2f/%.2f\\n' \n",
    "    %  (E_S_2, MEAN_SERVICE_TIME_2) )\n",
    "\n",
    "# E[r]\n",
    "E_R_1 = (MyServer1.responseTime/MyServer1.jobsDone)\n",
    "E_R_2 = (MyServer2.responseTime/MyServer1.jobsDone)\n",
    "print('Mean response time')\n",
    "print('E[r] (1)                 : %.2f/%.2f' \n",
    "    %  (E_R_1, MEAN_RESPONSE_TIME_1) )\n",
    "print('E[r] (2)                 : %.2f/%.2f\\n' \n",
    "    %  (E_R_2, MEAN_RESPONSE_TIME_2) )\n",
    "\n",
    "# E[n]\n",
    "E_N_1 = E_R_1*(MyServer1.jobsDone/MAXSIMTIME)\n",
    "E_N_2 = E_R_2*(MyServer2.jobsDone/MAXSIMTIME)\n",
    "print('Mean number of jobs')\n",
    "print('E[n] (1)                 : %.2f/%.2f' \n",
    "    % (E_N_1, MEAN_NUMBER_JOB_1 ) )\n",
    "print('E[n] (2)                 : %.2f/%.2f' \n",
    "    % (E_N_2, MEAN_NUMBER_JOB_2 ) )"
   ]
  },
  {
   "cell_type": "markdown",
   "metadata": {
    "id": "KsYgIPPNr2u5"
   },
   "source": [
    "**Plot the statistics**"
   ]
  },
  {
   "cell_type": "code",
   "execution_count": 13,
   "metadata": {
    "colab": {
     "base_uri": "https://localhost:8080/",
     "height": 297
    },
    "id": "Bq3SlNxEr4li",
    "outputId": "8d04e372-2591-4b87-d8dd-c4652fecea6e"
   },
   "outputs": [
    {
     "data": {
      "image/png": "[encoded data removed]",
      "text/plain": [
       "<Figure size 640x480 with 2 Axes>"
      ]
     },
     "metadata": {},
     "output_type": "display_data"
    },
    {
     "data": {
      "image/png": "[encoded data removed]",
      "text/plain": [
       "<Figure size 640x480 with 2 Axes>"
      ]
     },
     "metadata": {},
     "output_type": "display_data"
    }
   ],
   "source": [
    "if LOGGED and PLOTTED:\n",
    "    import matplotlib.pyplot as plt\n",
    "    log = np.loadtxt( 'mm1-l%d-m%d1.csv' % (LAMBDA,MU), delimiter = '\\t' )\n",
    "    plt.subplot( 2, 1, 1 )\n",
    "    plt.xlabel( 'Time' )\n",
    "    plt.ylabel( 'Queue length' )\n",
    "    plt.step( log[:200,0], log[:200,2], where='post' )\n",
    "    plt.subplot( 2, 1, 2 )\n",
    "    plt.xlabel( 'Time' )\n",
    "    plt.ylabel( 'Server state' )\n",
    "    plt.yticks([0, 1], ['idle', 'busy'])\n",
    "    #plt.step( log[:200,0], log[:200,1], where='post' )\n",
    "    plt.fill_between( log[:200,0], 0, log[:200,1], step=\"post\", alpha=.4 )\n",
    "    plt.tight_layout()\n",
    "    plt.show()\n",
    "\n",
    "if LOGGED and PLOTTED:\n",
    "    import matplotlib.pyplot as plt\n",
    "    log = np.loadtxt( 'mm1-l%d-m%d2.csv' % (LAMBDA,MU), delimiter = '\\t' )\n",
    "    plt.subplot( 2, 1, 1 )\n",
    "    plt.xlabel( 'Time' )\n",
    "    plt.ylabel( 'Queue length' )\n",
    "    plt.step( log[:200,0], log[:200,2], where='post' )\n",
    "    plt.subplot( 2, 1, 2 )\n",
    "    plt.xlabel( 'Time' )\n",
    "    plt.ylabel( 'Server state' )\n",
    "    plt.yticks([0, 1], ['idle', 'busy'])\n",
    "    #plt.step( log[:200,0], log[:200,1], where='post' )\n",
    "    plt.fill_between( log[:200,0], 0, log[:200,1], step=\"post\", alpha=.4 )\n",
    "    plt.tight_layout()\n",
    "    plt.show()"
   ]
  }
 ],
 "metadata": {
  "colab": {
   "collapsed_sections": [],
   "name": "MM1.ipynb",
   "provenance": []
  },
  "kernelspec": {
   "display_name": "Python 3.11.0 64-bit",
   "language": "python",
   "name": "python3"
  },
  "language_info": {
   "codemirror_mode": {
    "name": "ipython",
    "version": 3
   },
   "file_extension": ".py",
   "mimetype": "text/x-python",
   "name": "python",
   "nbconvert_exporter": "python",
   "pygments_lexer": "ipython3",
   "version": "3.11.0"
  },
  "vscode": {
   "interpreter": {
    "hash": "1fec366f434b91e5b6135994760842e6a8aa4127aab9c1b9ef44268231b758fc"
   }
  }
 },
 "nbformat": 4,
 "nbformat_minor": 4
}
