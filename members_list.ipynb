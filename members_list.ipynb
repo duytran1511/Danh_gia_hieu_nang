{
  "nbformat": 4,
  "nbformat_minor": 0,
  "metadata": {
    "colab": {
      "provenance": []
    },
    "kernelspec": {
      "name": "python3",
      "display_name": "Python 3"
    },
    "language_info": {
      "name": "python"
    }
  },
  "cells": [
    {
      "cell_type": "markdown",
      "source": [
        "# ĐÁNH GIÁ HIỆU NĂNG HỆ THỐNG (CO3007)\n",
        "\n",
        "**Lớp L02**\n",
        " \n",
        "**Danh sách thành viên**\n",
        "1.   Trần Nguyễn Minh Duy - 1910095\n",
        "2.   Đặng Trung Kiên - 1911437\n",
        "3.   Vũ Quang Trung - 1912330"
      ],
      "metadata": {
        "id": "Sy9bdFIMTIBg"
      }
    }
  ]
}