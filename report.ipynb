{
  "cells": [
    {
      "cell_type": "markdown",
      "metadata": {
        "id": "iZxVfTgKP63q"
      },
      "source": [
        "# Bài tập lớn môn Đánh giá hiệu năng của hệ thống \n",
        "\n",
        "**Chủ đề 9:** Xây dựng 2 chương trình mô phỏng: 1) 2 hàng M/M/1 song song với nhau - tải chia đều, tốc độ phục vụ của server là µ, 2) 2 hàng M/M/1 nối tiếp nhau với tốc độ phục vụ là 2µ. Hãy so sánh và đánh giá hiệu năng của 2 hệ thống hàng.\n",
        "\n",
        "**Kết luận Bài tập lớn**\n",
        "- **Các thông số** như: thời gian chờ trung bình (E[w]), thời gian phục vụ trung bình (E[s]), thời gian phản hồi trung bình (E[r]), và mức độ sử dụng của server (U) của hai mô hình thông qua mô phỏng **sấp xỉ nhau**.\n",
        "- Theo lý thuyết, **(E[r])** của mô hình có 2 hàng M/M/1 song song với nhau phải nhỏ hơn so với mô hình có 2 hàng M/M/1 nối tiếp. Tuy nhiên, thông qua mô phỏng, ta thấy rằng không có sự chênh lệch lớn, gần tương đương. Hơn nữa, E[w] cũng tương đương. Thế nên, theo lý thuyết, mô hình song song sẽ tốt hơn. Thế nhưng, với mô phỏng, cả hai mô hình đều như nhau.\n",
        "- **E[w]** của queue thứ 2 trong mô hình nối tiếp lớn hơn khá nhiều so với queue thứ nhất, và 2 queue của mô hình song song.\n",
        "- Trong thực tế, ta không thể thay đổi được **workload**, nhưng ta có thể thay đổi thông số của **MU** server. Nếu ta tăng MU thì E[w] của mô hình nối tiếp sẽ lớn hơn, và ngày càng lớn hơn nhiều so với mô hình song song. Và MU càng lớn thì E[w] sẽ càng nhỏ."
      ]
    }
  ],
  "metadata": {
    "colab": {
      "provenance": []
    },
    "kernelspec": {
      "display_name": "Python 3.11.0 64-bit",
      "language": "python",
      "name": "python3"
    },
    "language_info": {
      "name": "python",
      "version": "3.11.0"
    },
    "vscode": {
      "interpreter": {
        "hash": "beb364095454df8d8544dd9127e882a73c1a355bfe5de105ef8806a4bee4e3fa"
      }
    }
  },
  "nbformat": 4,
  "nbformat_minor": 0
}
